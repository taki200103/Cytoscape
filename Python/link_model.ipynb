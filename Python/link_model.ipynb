{
 "cells": [
  {
   "cell_type": "code",
   "execution_count": 1,
   "metadata": {},
   "outputs": [
    {
     "name": "stdout",
     "output_type": "stream",
     "text": [
      "Network ID: 151\n",
      "Dữ liệu các cạnh đã được lưu vào file edges_user.csv\n"
     ]
    },
    {
     "name": "stderr",
     "output_type": "stream",
     "text": [
      "c:\\Users\\HOANG\\AppData\\Local\\Programs\\Python\\Python312\\Lib\\site-packages\\py4cytoscape\\tables.py:187: PerformanceWarning: DataFrame is highly fragmented.  This is usually the result of calling `frame.insert` many times, which has poor performance.  Consider joining all columns at once using pd.concat(axis=1) instead. To get a de-fragmented frame, use `newframe = frame.copy()`\n",
      "  df[col] = cvv\n",
      "c:\\Users\\HOANG\\AppData\\Local\\Programs\\Python\\Python312\\Lib\\site-packages\\py4cytoscape\\tables.py:187: PerformanceWarning: DataFrame is highly fragmented.  This is usually the result of calling `frame.insert` many times, which has poor performance.  Consider joining all columns at once using pd.concat(axis=1) instead. To get a de-fragmented frame, use `newframe = frame.copy()`\n",
      "  df[col] = cvv\n",
      "c:\\Users\\HOANG\\AppData\\Local\\Programs\\Python\\Python312\\Lib\\site-packages\\py4cytoscape\\tables.py:187: PerformanceWarning: DataFrame is highly fragmented.  This is usually the result of calling `frame.insert` many times, which has poor performance.  Consider joining all columns at once using pd.concat(axis=1) instead. To get a de-fragmented frame, use `newframe = frame.copy()`\n",
      "  df[col] = cvv\n",
      "c:\\Users\\HOANG\\AppData\\Local\\Programs\\Python\\Python312\\Lib\\site-packages\\py4cytoscape\\tables.py:187: PerformanceWarning: DataFrame is highly fragmented.  This is usually the result of calling `frame.insert` many times, which has poor performance.  Consider joining all columns at once using pd.concat(axis=1) instead. To get a de-fragmented frame, use `newframe = frame.copy()`\n",
      "  df[col] = cvv\n",
      "c:\\Users\\HOANG\\AppData\\Local\\Programs\\Python\\Python312\\Lib\\site-packages\\py4cytoscape\\tables.py:187: PerformanceWarning: DataFrame is highly fragmented.  This is usually the result of calling `frame.insert` many times, which has poor performance.  Consider joining all columns at once using pd.concat(axis=1) instead. To get a de-fragmented frame, use `newframe = frame.copy()`\n",
      "  df[col] = cvv\n",
      "c:\\Users\\HOANG\\AppData\\Local\\Programs\\Python\\Python312\\Lib\\site-packages\\py4cytoscape\\tables.py:187: PerformanceWarning: DataFrame is highly fragmented.  This is usually the result of calling `frame.insert` many times, which has poor performance.  Consider joining all columns at once using pd.concat(axis=1) instead. To get a de-fragmented frame, use `newframe = frame.copy()`\n",
      "  df[col] = cvv\n",
      "c:\\Users\\HOANG\\AppData\\Local\\Programs\\Python\\Python312\\Lib\\site-packages\\py4cytoscape\\tables.py:187: PerformanceWarning: DataFrame is highly fragmented.  This is usually the result of calling `frame.insert` many times, which has poor performance.  Consider joining all columns at once using pd.concat(axis=1) instead. To get a de-fragmented frame, use `newframe = frame.copy()`\n",
      "  df[col] = cvv\n",
      "c:\\Users\\HOANG\\AppData\\Local\\Programs\\Python\\Python312\\Lib\\site-packages\\py4cytoscape\\tables.py:187: PerformanceWarning: DataFrame is highly fragmented.  This is usually the result of calling `frame.insert` many times, which has poor performance.  Consider joining all columns at once using pd.concat(axis=1) instead. To get a de-fragmented frame, use `newframe = frame.copy()`\n",
      "  df[col] = cvv\n",
      "c:\\Users\\HOANG\\AppData\\Local\\Programs\\Python\\Python312\\Lib\\site-packages\\py4cytoscape\\tables.py:187: PerformanceWarning: DataFrame is highly fragmented.  This is usually the result of calling `frame.insert` many times, which has poor performance.  Consider joining all columns at once using pd.concat(axis=1) instead. To get a de-fragmented frame, use `newframe = frame.copy()`\n",
      "  df[col] = cvv\n",
      "c:\\Users\\HOANG\\AppData\\Local\\Programs\\Python\\Python312\\Lib\\site-packages\\py4cytoscape\\tables.py:187: PerformanceWarning: DataFrame is highly fragmented.  This is usually the result of calling `frame.insert` many times, which has poor performance.  Consider joining all columns at once using pd.concat(axis=1) instead. To get a de-fragmented frame, use `newframe = frame.copy()`\n",
      "  df[col] = cvv\n",
      "c:\\Users\\HOANG\\AppData\\Local\\Programs\\Python\\Python312\\Lib\\site-packages\\py4cytoscape\\tables.py:187: PerformanceWarning: DataFrame is highly fragmented.  This is usually the result of calling `frame.insert` many times, which has poor performance.  Consider joining all columns at once using pd.concat(axis=1) instead. To get a de-fragmented frame, use `newframe = frame.copy()`\n",
      "  df[col] = cvv\n",
      "c:\\Users\\HOANG\\AppData\\Local\\Programs\\Python\\Python312\\Lib\\site-packages\\py4cytoscape\\tables.py:187: PerformanceWarning: DataFrame is highly fragmented.  This is usually the result of calling `frame.insert` many times, which has poor performance.  Consider joining all columns at once using pd.concat(axis=1) instead. To get a de-fragmented frame, use `newframe = frame.copy()`\n",
      "  df[col] = cvv\n",
      "c:\\Users\\HOANG\\AppData\\Local\\Programs\\Python\\Python312\\Lib\\site-packages\\py4cytoscape\\tables.py:187: PerformanceWarning: DataFrame is highly fragmented.  This is usually the result of calling `frame.insert` many times, which has poor performance.  Consider joining all columns at once using pd.concat(axis=1) instead. To get a de-fragmented frame, use `newframe = frame.copy()`\n",
      "  df[col] = cvv\n",
      "c:\\Users\\HOANG\\AppData\\Local\\Programs\\Python\\Python312\\Lib\\site-packages\\py4cytoscape\\tables.py:187: PerformanceWarning: DataFrame is highly fragmented.  This is usually the result of calling `frame.insert` many times, which has poor performance.  Consider joining all columns at once using pd.concat(axis=1) instead. To get a de-fragmented frame, use `newframe = frame.copy()`\n",
      "  df[col] = cvv\n",
      "c:\\Users\\HOANG\\AppData\\Local\\Programs\\Python\\Python312\\Lib\\site-packages\\py4cytoscape\\tables.py:187: PerformanceWarning: DataFrame is highly fragmented.  This is usually the result of calling `frame.insert` many times, which has poor performance.  Consider joining all columns at once using pd.concat(axis=1) instead. To get a de-fragmented frame, use `newframe = frame.copy()`\n",
      "  df[col] = cvv\n",
      "c:\\Users\\HOANG\\AppData\\Local\\Programs\\Python\\Python312\\Lib\\site-packages\\py4cytoscape\\tables.py:187: PerformanceWarning: DataFrame is highly fragmented.  This is usually the result of calling `frame.insert` many times, which has poor performance.  Consider joining all columns at once using pd.concat(axis=1) instead. To get a de-fragmented frame, use `newframe = frame.copy()`\n",
      "  df[col] = cvv\n",
      "c:\\Users\\HOANG\\AppData\\Local\\Programs\\Python\\Python312\\Lib\\site-packages\\py4cytoscape\\tables.py:187: PerformanceWarning: DataFrame is highly fragmented.  This is usually the result of calling `frame.insert` many times, which has poor performance.  Consider joining all columns at once using pd.concat(axis=1) instead. To get a de-fragmented frame, use `newframe = frame.copy()`\n",
      "  df[col] = cvv\n",
      "c:\\Users\\HOANG\\AppData\\Local\\Programs\\Python\\Python312\\Lib\\site-packages\\py4cytoscape\\tables.py:187: PerformanceWarning: DataFrame is highly fragmented.  This is usually the result of calling `frame.insert` many times, which has poor performance.  Consider joining all columns at once using pd.concat(axis=1) instead. To get a de-fragmented frame, use `newframe = frame.copy()`\n",
      "  df[col] = cvv\n",
      "c:\\Users\\HOANG\\AppData\\Local\\Programs\\Python\\Python312\\Lib\\site-packages\\py4cytoscape\\tables.py:187: PerformanceWarning: DataFrame is highly fragmented.  This is usually the result of calling `frame.insert` many times, which has poor performance.  Consider joining all columns at once using pd.concat(axis=1) instead. To get a de-fragmented frame, use `newframe = frame.copy()`\n",
      "  df[col] = cvv\n",
      "c:\\Users\\HOANG\\AppData\\Local\\Programs\\Python\\Python312\\Lib\\site-packages\\py4cytoscape\\tables.py:187: PerformanceWarning: DataFrame is highly fragmented.  This is usually the result of calling `frame.insert` many times, which has poor performance.  Consider joining all columns at once using pd.concat(axis=1) instead. To get a de-fragmented frame, use `newframe = frame.copy()`\n",
      "  df[col] = cvv\n",
      "c:\\Users\\HOANG\\AppData\\Local\\Programs\\Python\\Python312\\Lib\\site-packages\\py4cytoscape\\tables.py:187: PerformanceWarning: DataFrame is highly fragmented.  This is usually the result of calling `frame.insert` many times, which has poor performance.  Consider joining all columns at once using pd.concat(axis=1) instead. To get a de-fragmented frame, use `newframe = frame.copy()`\n",
      "  df[col] = cvv\n",
      "c:\\Users\\HOANG\\AppData\\Local\\Programs\\Python\\Python312\\Lib\\site-packages\\py4cytoscape\\tables.py:187: PerformanceWarning: DataFrame is highly fragmented.  This is usually the result of calling `frame.insert` many times, which has poor performance.  Consider joining all columns at once using pd.concat(axis=1) instead. To get a de-fragmented frame, use `newframe = frame.copy()`\n",
      "  df[col] = cvv\n",
      "c:\\Users\\HOANG\\AppData\\Local\\Programs\\Python\\Python312\\Lib\\site-packages\\py4cytoscape\\tables.py:187: PerformanceWarning: DataFrame is highly fragmented.  This is usually the result of calling `frame.insert` many times, which has poor performance.  Consider joining all columns at once using pd.concat(axis=1) instead. To get a de-fragmented frame, use `newframe = frame.copy()`\n",
      "  df[col] = cvv\n"
     ]
    },
    {
     "name": "stdout",
     "output_type": "stream",
     "text": [
      "Dữ liệu các nút đã được lưu vào file nodes_user.csv\n"
     ]
    },
    {
     "name": "stderr",
     "output_type": "stream",
     "text": [
      "c:\\Users\\HOANG\\AppData\\Local\\Programs\\Python\\Python312\\Lib\\site-packages\\py4cytoscape\\tables.py:187: PerformanceWarning: DataFrame is highly fragmented.  This is usually the result of calling `frame.insert` many times, which has poor performance.  Consider joining all columns at once using pd.concat(axis=1) instead. To get a de-fragmented frame, use `newframe = frame.copy()`\n",
      "  df[col] = cvv\n",
      "c:\\Users\\HOANG\\AppData\\Local\\Programs\\Python\\Python312\\Lib\\site-packages\\py4cytoscape\\tables.py:187: PerformanceWarning: DataFrame is highly fragmented.  This is usually the result of calling `frame.insert` many times, which has poor performance.  Consider joining all columns at once using pd.concat(axis=1) instead. To get a de-fragmented frame, use `newframe = frame.copy()`\n",
      "  df[col] = cvv\n",
      "c:\\Users\\HOANG\\AppData\\Local\\Programs\\Python\\Python312\\Lib\\site-packages\\py4cytoscape\\tables.py:187: PerformanceWarning: DataFrame is highly fragmented.  This is usually the result of calling `frame.insert` many times, which has poor performance.  Consider joining all columns at once using pd.concat(axis=1) instead. To get a de-fragmented frame, use `newframe = frame.copy()`\n",
      "  df[col] = cvv\n",
      "c:\\Users\\HOANG\\AppData\\Local\\Programs\\Python\\Python312\\Lib\\site-packages\\py4cytoscape\\tables.py:187: PerformanceWarning: DataFrame is highly fragmented.  This is usually the result of calling `frame.insert` many times, which has poor performance.  Consider joining all columns at once using pd.concat(axis=1) instead. To get a de-fragmented frame, use `newframe = frame.copy()`\n",
      "  df[col] = cvv\n",
      "c:\\Users\\HOANG\\AppData\\Local\\Programs\\Python\\Python312\\Lib\\site-packages\\py4cytoscape\\tables.py:187: PerformanceWarning: DataFrame is highly fragmented.  This is usually the result of calling `frame.insert` many times, which has poor performance.  Consider joining all columns at once using pd.concat(axis=1) instead. To get a de-fragmented frame, use `newframe = frame.copy()`\n",
      "  df[col] = cvv\n",
      "c:\\Users\\HOANG\\AppData\\Local\\Programs\\Python\\Python312\\Lib\\site-packages\\py4cytoscape\\tables.py:187: PerformanceWarning: DataFrame is highly fragmented.  This is usually the result of calling `frame.insert` many times, which has poor performance.  Consider joining all columns at once using pd.concat(axis=1) instead. To get a de-fragmented frame, use `newframe = frame.copy()`\n",
      "  df[col] = cvv\n",
      "c:\\Users\\HOANG\\AppData\\Local\\Programs\\Python\\Python312\\Lib\\site-packages\\py4cytoscape\\tables.py:187: PerformanceWarning: DataFrame is highly fragmented.  This is usually the result of calling `frame.insert` many times, which has poor performance.  Consider joining all columns at once using pd.concat(axis=1) instead. To get a de-fragmented frame, use `newframe = frame.copy()`\n",
      "  df[col] = cvv\n",
      "c:\\Users\\HOANG\\AppData\\Local\\Programs\\Python\\Python312\\Lib\\site-packages\\py4cytoscape\\tables.py:187: PerformanceWarning: DataFrame is highly fragmented.  This is usually the result of calling `frame.insert` many times, which has poor performance.  Consider joining all columns at once using pd.concat(axis=1) instead. To get a de-fragmented frame, use `newframe = frame.copy()`\n",
      "  df[col] = cvv\n",
      "c:\\Users\\HOANG\\AppData\\Local\\Programs\\Python\\Python312\\Lib\\site-packages\\py4cytoscape\\tables.py:187: PerformanceWarning: DataFrame is highly fragmented.  This is usually the result of calling `frame.insert` many times, which has poor performance.  Consider joining all columns at once using pd.concat(axis=1) instead. To get a de-fragmented frame, use `newframe = frame.copy()`\n",
      "  df[col] = cvv\n",
      "c:\\Users\\HOANG\\AppData\\Local\\Programs\\Python\\Python312\\Lib\\site-packages\\py4cytoscape\\tables.py:187: PerformanceWarning: DataFrame is highly fragmented.  This is usually the result of calling `frame.insert` many times, which has poor performance.  Consider joining all columns at once using pd.concat(axis=1) instead. To get a de-fragmented frame, use `newframe = frame.copy()`\n",
      "  df[col] = cvv\n",
      "C:\\Users\\HOANG\\AppData\\Local\\Temp\\ipykernel_19788\\1936815502.py:34: PerformanceWarning: DataFrame is highly fragmented.  This is usually the result of calling `frame.insert` many times, which has poor performance.  Consider joining all columns at once using pd.concat(axis=1) instead. To get a de-fragmented frame, use `newframe = frame.copy()`\n",
      "  nodes_df['node_id'] = nodes_df['name']\n"
     ]
    }
   ],
   "source": [
    "import py4cytoscape as p4c\n",
    "import pandas as pd\n",
    "\n",
    "# Kết nối với Cytoscape và lấy SUID của mạng hiện tại\n",
    "network_id = p4c.get_network_suid()\n",
    "print(\"Network ID:\", network_id)\n",
    "\n",
    "# --- Lưu danh sách các cạnh ---\n",
    "# Lấy dữ liệu từ bảng edge\n",
    "edges_table = p4c.get_table_columns(table='edge', network=network_id)\n",
    "\n",
    "# Chuyển đổi sang DataFrame\n",
    "edges_df = pd.DataFrame(edges_table)\n",
    "\n",
    "# Tách cột 'shared name' thành 'source' và 'target'\n",
    "edges_df[['source', 'target']] = edges_df['shared name'].str.extract(r'(\\d+) \\(interacts with\\) (\\d+)')\n",
    "\n",
    "# Chuyển đổi các cột 'source' và 'target' sang kiểu số nguyên\n",
    "edges_df['source'] = edges_df['source'].astype(int)\n",
    "edges_df['target'] = edges_df['target'].astype(int)\n",
    "\n",
    "# Lưu DataFrame vào file CSV với các cột 'source' và 'target'\n",
    "edges_df[['source', 'target']].to_csv(r'E:\\OOP\\Project_OOP\\Python\\link_process\\edges_user.csv', index=False)\n",
    "print(\"Dữ liệu các cạnh đã được lưu vào file edges_user.csv\")\n",
    "\n",
    "# --- Lưu danh sách các nút ---\n",
    "# Lấy dữ liệu từ bảng node\n",
    "nodes_table = p4c.get_table_columns(table='node', network=network_id)\n",
    "\n",
    "# Chuyển đổi sang DataFrame\n",
    "nodes_df = pd.DataFrame(nodes_table)\n",
    "\n",
    "# Tạo cột 'node_id' từ cột 'name'\n",
    "nodes_df['node_id'] = nodes_df['name']\n",
    "\n",
    "# Lưu DataFrame vào file CSV với cột 'node_id' và các cột từ 0 đến 127\n",
    "columns_to_keep = ['node_id'] + [str(i) for i in range(128)]\n",
    "nodes_df[columns_to_keep].to_csv(r'E:\\OOP\\Project_OOP\\Python\\link_process\\nodes_user.csv', index=False)\n",
    "print(\"Dữ liệu các nút đã được lưu vào file nodes_user.csv\")\n"
   ]
  },
  {
   "cell_type": "code",
   "execution_count": 1,
   "metadata": {},
   "outputs": [
    {
     "name": "stdout",
     "output_type": "stream",
     "text": [
      "Các node không có trong nodes_user.csv đã được lưu vào file node_difference.csv\n"
     ]
    }
   ],
   "source": [
    "import pandas as pd\n",
    "\n",
    "# Đọc dữ liệu từ file link_nodesview.csv và nodes_user.csv\n",
    "nodesview_df = pd.read_csv(r'E:\\OOP\\Project_OOP\\Python\\link_process\\link_nodesview.csv')\n",
    "nodesuser_df = pd.read_csv(r'E:\\OOP\\Project_OOP\\Python\\link_process\\nodes_user.csv')\n",
    "\n",
    "# Tìm các node_id có trong link_nodesview.csv mà không có trong nodes_user.csv\n",
    "node_difference_df = nodesview_df[~nodesview_df['node_id'].isin(nodesuser_df['node_id'])]\n",
    "\n",
    "# Bỏ cột 'label' trong kết quả\n",
    "node_difference_df = node_difference_df.drop(columns=['label'])\n",
    "\n",
    "# Lưu kết quả vào file node_difference.csv\n",
    "node_difference_df.to_csv(r'E:\\OOP\\Project_OOP\\Python\\link_process\\node_difference.csv', index=False)\n",
    "\n",
    "print(\"Các node không có trong nodes_user.csv đã được lưu vào file node_difference.csv\")\n"
   ]
  },
  {
   "cell_type": "code",
   "execution_count": 18,
   "metadata": {},
   "outputs": [
    {
     "name": "stdout",
     "output_type": "stream",
     "text": [
      "Các node mới đã được thêm vào đồ thị.\n",
      "Các node đã được sắp xếp lại.\n"
     ]
    }
   ],
   "source": [
    "import py4cytoscape as p4c\n",
    "import pandas as pd\n",
    "\n",
    "# Đường dẫn đến file CSV\n",
    "file_path = r\"E:\\OOP\\Project_OOP\\Python\\link_process\\node_difference.csv\"\n",
    "\n",
    "# Đọc dữ liệu từ file CSV\n",
    "nodes_df = pd.read_csv(file_path)\n",
    "\n",
    "# Kiểm tra cột node_id có tồn tại\n",
    "if 'node_id' not in nodes_df.columns:\n",
    "    raise ValueError(\"File CSV không chứa cột 'node_id'\")\n",
    "\n",
    "# Tạo DataFrame chứa các nút mới\n",
    "nodes_data = pd.DataFrame({\n",
    "    'name': nodes_df['node_id'].astype(str)  # Sử dụng 'name' thay vì 'id'\n",
    "})\n",
    "\n",
    "# Lấy đồ thị hiện tại trong Cytoscape\n",
    "network_id = p4c.get_network_suid()\n",
    "\n",
    "# Thêm các node mới vào đồ thị\n",
    "p4c.add_cy_nodes(nodes_data['name'].tolist(), network=network_id)\n",
    "print(\"Các node mới đã được thêm vào đồ thị.\")\n",
    "\n",
    "# Áp dụng thuật toán bố trí để sắp xếp các node\n",
    "p4c.layout_network(layout_name='force-directed', network=network_id)\n",
    "print(\"Các node đã được sắp xếp lại.\")"
   ]
  },
  {
   "cell_type": "code",
   "execution_count": 11,
   "metadata": {},
   "outputs": [
    {
     "name": "stdout",
     "output_type": "stream",
     "text": [
      "You are connected to Cytoscape!\n",
      "Network ID: 9847\n"
     ]
    },
    {
     "name": "stderr",
     "output_type": "stream",
     "text": [
      "c:\\Users\\HOANG\\AppData\\Local\\Programs\\Python\\Python312\\Lib\\site-packages\\py4cytoscape\\tables.py:187: PerformanceWarning: DataFrame is highly fragmented.  This is usually the result of calling `frame.insert` many times, which has poor performance.  Consider joining all columns at once using pd.concat(axis=1) instead. To get a de-fragmented frame, use `newframe = frame.copy()`\n",
      "  df[col] = cvv\n",
      "c:\\Users\\HOANG\\AppData\\Local\\Programs\\Python\\Python312\\Lib\\site-packages\\py4cytoscape\\tables.py:187: PerformanceWarning: DataFrame is highly fragmented.  This is usually the result of calling `frame.insert` many times, which has poor performance.  Consider joining all columns at once using pd.concat(axis=1) instead. To get a de-fragmented frame, use `newframe = frame.copy()`\n",
      "  df[col] = cvv\n",
      "c:\\Users\\HOANG\\AppData\\Local\\Programs\\Python\\Python312\\Lib\\site-packages\\py4cytoscape\\tables.py:187: PerformanceWarning: DataFrame is highly fragmented.  This is usually the result of calling `frame.insert` many times, which has poor performance.  Consider joining all columns at once using pd.concat(axis=1) instead. To get a de-fragmented frame, use `newframe = frame.copy()`\n",
      "  df[col] = cvv\n",
      "c:\\Users\\HOANG\\AppData\\Local\\Programs\\Python\\Python312\\Lib\\site-packages\\py4cytoscape\\tables.py:187: PerformanceWarning: DataFrame is highly fragmented.  This is usually the result of calling `frame.insert` many times, which has poor performance.  Consider joining all columns at once using pd.concat(axis=1) instead. To get a de-fragmented frame, use `newframe = frame.copy()`\n",
      "  df[col] = cvv\n",
      "c:\\Users\\HOANG\\AppData\\Local\\Programs\\Python\\Python312\\Lib\\site-packages\\py4cytoscape\\tables.py:187: PerformanceWarning: DataFrame is highly fragmented.  This is usually the result of calling `frame.insert` many times, which has poor performance.  Consider joining all columns at once using pd.concat(axis=1) instead. To get a de-fragmented frame, use `newframe = frame.copy()`\n",
      "  df[col] = cvv\n",
      "c:\\Users\\HOANG\\AppData\\Local\\Programs\\Python\\Python312\\Lib\\site-packages\\py4cytoscape\\tables.py:187: PerformanceWarning: DataFrame is highly fragmented.  This is usually the result of calling `frame.insert` many times, which has poor performance.  Consider joining all columns at once using pd.concat(axis=1) instead. To get a de-fragmented frame, use `newframe = frame.copy()`\n",
      "  df[col] = cvv\n",
      "c:\\Users\\HOANG\\AppData\\Local\\Programs\\Python\\Python312\\Lib\\site-packages\\py4cytoscape\\tables.py:187: PerformanceWarning: DataFrame is highly fragmented.  This is usually the result of calling `frame.insert` many times, which has poor performance.  Consider joining all columns at once using pd.concat(axis=1) instead. To get a de-fragmented frame, use `newframe = frame.copy()`\n",
      "  df[col] = cvv\n",
      "c:\\Users\\HOANG\\AppData\\Local\\Programs\\Python\\Python312\\Lib\\site-packages\\py4cytoscape\\tables.py:187: PerformanceWarning: DataFrame is highly fragmented.  This is usually the result of calling `frame.insert` many times, which has poor performance.  Consider joining all columns at once using pd.concat(axis=1) instead. To get a de-fragmented frame, use `newframe = frame.copy()`\n",
      "  df[col] = cvv\n",
      "c:\\Users\\HOANG\\AppData\\Local\\Programs\\Python\\Python312\\Lib\\site-packages\\py4cytoscape\\tables.py:187: PerformanceWarning: DataFrame is highly fragmented.  This is usually the result of calling `frame.insert` many times, which has poor performance.  Consider joining all columns at once using pd.concat(axis=1) instead. To get a de-fragmented frame, use `newframe = frame.copy()`\n",
      "  df[col] = cvv\n",
      "c:\\Users\\HOANG\\AppData\\Local\\Programs\\Python\\Python312\\Lib\\site-packages\\py4cytoscape\\tables.py:187: PerformanceWarning: DataFrame is highly fragmented.  This is usually the result of calling `frame.insert` many times, which has poor performance.  Consider joining all columns at once using pd.concat(axis=1) instead. To get a de-fragmented frame, use `newframe = frame.copy()`\n",
      "  df[col] = cvv\n",
      "c:\\Users\\HOANG\\AppData\\Local\\Programs\\Python\\Python312\\Lib\\site-packages\\py4cytoscape\\tables.py:187: PerformanceWarning: DataFrame is highly fragmented.  This is usually the result of calling `frame.insert` many times, which has poor performance.  Consider joining all columns at once using pd.concat(axis=1) instead. To get a de-fragmented frame, use `newframe = frame.copy()`\n",
      "  df[col] = cvv\n",
      "c:\\Users\\HOANG\\AppData\\Local\\Programs\\Python\\Python312\\Lib\\site-packages\\py4cytoscape\\tables.py:187: PerformanceWarning: DataFrame is highly fragmented.  This is usually the result of calling `frame.insert` many times, which has poor performance.  Consider joining all columns at once using pd.concat(axis=1) instead. To get a de-fragmented frame, use `newframe = frame.copy()`\n",
      "  df[col] = cvv\n",
      "c:\\Users\\HOANG\\AppData\\Local\\Programs\\Python\\Python312\\Lib\\site-packages\\py4cytoscape\\tables.py:187: PerformanceWarning: DataFrame is highly fragmented.  This is usually the result of calling `frame.insert` many times, which has poor performance.  Consider joining all columns at once using pd.concat(axis=1) instead. To get a de-fragmented frame, use `newframe = frame.copy()`\n",
      "  df[col] = cvv\n",
      "c:\\Users\\HOANG\\AppData\\Local\\Programs\\Python\\Python312\\Lib\\site-packages\\py4cytoscape\\tables.py:187: PerformanceWarning: DataFrame is highly fragmented.  This is usually the result of calling `frame.insert` many times, which has poor performance.  Consider joining all columns at once using pd.concat(axis=1) instead. To get a de-fragmented frame, use `newframe = frame.copy()`\n",
      "  df[col] = cvv\n",
      "c:\\Users\\HOANG\\AppData\\Local\\Programs\\Python\\Python312\\Lib\\site-packages\\py4cytoscape\\tables.py:187: PerformanceWarning: DataFrame is highly fragmented.  This is usually the result of calling `frame.insert` many times, which has poor performance.  Consider joining all columns at once using pd.concat(axis=1) instead. To get a de-fragmented frame, use `newframe = frame.copy()`\n",
      "  df[col] = cvv\n",
      "c:\\Users\\HOANG\\AppData\\Local\\Programs\\Python\\Python312\\Lib\\site-packages\\py4cytoscape\\tables.py:187: PerformanceWarning: DataFrame is highly fragmented.  This is usually the result of calling `frame.insert` many times, which has poor performance.  Consider joining all columns at once using pd.concat(axis=1) instead. To get a de-fragmented frame, use `newframe = frame.copy()`\n",
      "  df[col] = cvv\n",
      "c:\\Users\\HOANG\\AppData\\Local\\Programs\\Python\\Python312\\Lib\\site-packages\\py4cytoscape\\tables.py:187: PerformanceWarning: DataFrame is highly fragmented.  This is usually the result of calling `frame.insert` many times, which has poor performance.  Consider joining all columns at once using pd.concat(axis=1) instead. To get a de-fragmented frame, use `newframe = frame.copy()`\n",
      "  df[col] = cvv\n",
      "c:\\Users\\HOANG\\AppData\\Local\\Programs\\Python\\Python312\\Lib\\site-packages\\py4cytoscape\\tables.py:187: PerformanceWarning: DataFrame is highly fragmented.  This is usually the result of calling `frame.insert` many times, which has poor performance.  Consider joining all columns at once using pd.concat(axis=1) instead. To get a de-fragmented frame, use `newframe = frame.copy()`\n",
      "  df[col] = cvv\n",
      "c:\\Users\\HOANG\\AppData\\Local\\Programs\\Python\\Python312\\Lib\\site-packages\\py4cytoscape\\tables.py:187: PerformanceWarning: DataFrame is highly fragmented.  This is usually the result of calling `frame.insert` many times, which has poor performance.  Consider joining all columns at once using pd.concat(axis=1) instead. To get a de-fragmented frame, use `newframe = frame.copy()`\n",
      "  df[col] = cvv\n",
      "c:\\Users\\HOANG\\AppData\\Local\\Programs\\Python\\Python312\\Lib\\site-packages\\py4cytoscape\\tables.py:187: PerformanceWarning: DataFrame is highly fragmented.  This is usually the result of calling `frame.insert` many times, which has poor performance.  Consider joining all columns at once using pd.concat(axis=1) instead. To get a de-fragmented frame, use `newframe = frame.copy()`\n",
      "  df[col] = cvv\n",
      "c:\\Users\\HOANG\\AppData\\Local\\Programs\\Python\\Python312\\Lib\\site-packages\\py4cytoscape\\tables.py:187: PerformanceWarning: DataFrame is highly fragmented.  This is usually the result of calling `frame.insert` many times, which has poor performance.  Consider joining all columns at once using pd.concat(axis=1) instead. To get a de-fragmented frame, use `newframe = frame.copy()`\n",
      "  df[col] = cvv\n",
      "c:\\Users\\HOANG\\AppData\\Local\\Programs\\Python\\Python312\\Lib\\site-packages\\py4cytoscape\\tables.py:187: PerformanceWarning: DataFrame is highly fragmented.  This is usually the result of calling `frame.insert` many times, which has poor performance.  Consider joining all columns at once using pd.concat(axis=1) instead. To get a de-fragmented frame, use `newframe = frame.copy()`\n",
      "  df[col] = cvv\n",
      "c:\\Users\\HOANG\\AppData\\Local\\Programs\\Python\\Python312\\Lib\\site-packages\\py4cytoscape\\tables.py:187: PerformanceWarning: DataFrame is highly fragmented.  This is usually the result of calling `frame.insert` many times, which has poor performance.  Consider joining all columns at once using pd.concat(axis=1) instead. To get a de-fragmented frame, use `newframe = frame.copy()`\n",
      "  df[col] = cvv\n",
      "c:\\Users\\HOANG\\AppData\\Local\\Programs\\Python\\Python312\\Lib\\site-packages\\py4cytoscape\\tables.py:187: PerformanceWarning: DataFrame is highly fragmented.  This is usually the result of calling `frame.insert` many times, which has poor performance.  Consider joining all columns at once using pd.concat(axis=1) instead. To get a de-fragmented frame, use `newframe = frame.copy()`\n",
      "  df[col] = cvv\n"
     ]
    },
    {
     "name": "stdout",
     "output_type": "stream",
     "text": [
      "Đã đổi màu các nút có label rỗng thành xanh lá.\n"
     ]
    },
    {
     "name": "stderr",
     "output_type": "stream",
     "text": [
      "c:\\Users\\HOANG\\AppData\\Local\\Programs\\Python\\Python312\\Lib\\site-packages\\py4cytoscape\\tables.py:187: PerformanceWarning: DataFrame is highly fragmented.  This is usually the result of calling `frame.insert` many times, which has poor performance.  Consider joining all columns at once using pd.concat(axis=1) instead. To get a de-fragmented frame, use `newframe = frame.copy()`\n",
      "  df[col] = cvv\n",
      "c:\\Users\\HOANG\\AppData\\Local\\Programs\\Python\\Python312\\Lib\\site-packages\\py4cytoscape\\tables.py:187: PerformanceWarning: DataFrame is highly fragmented.  This is usually the result of calling `frame.insert` many times, which has poor performance.  Consider joining all columns at once using pd.concat(axis=1) instead. To get a de-fragmented frame, use `newframe = frame.copy()`\n",
      "  df[col] = cvv\n",
      "c:\\Users\\HOANG\\AppData\\Local\\Programs\\Python\\Python312\\Lib\\site-packages\\py4cytoscape\\tables.py:187: PerformanceWarning: DataFrame is highly fragmented.  This is usually the result of calling `frame.insert` many times, which has poor performance.  Consider joining all columns at once using pd.concat(axis=1) instead. To get a de-fragmented frame, use `newframe = frame.copy()`\n",
      "  df[col] = cvv\n",
      "c:\\Users\\HOANG\\AppData\\Local\\Programs\\Python\\Python312\\Lib\\site-packages\\py4cytoscape\\tables.py:187: PerformanceWarning: DataFrame is highly fragmented.  This is usually the result of calling `frame.insert` many times, which has poor performance.  Consider joining all columns at once using pd.concat(axis=1) instead. To get a de-fragmented frame, use `newframe = frame.copy()`\n",
      "  df[col] = cvv\n",
      "c:\\Users\\HOANG\\AppData\\Local\\Programs\\Python\\Python312\\Lib\\site-packages\\py4cytoscape\\tables.py:187: PerformanceWarning: DataFrame is highly fragmented.  This is usually the result of calling `frame.insert` many times, which has poor performance.  Consider joining all columns at once using pd.concat(axis=1) instead. To get a de-fragmented frame, use `newframe = frame.copy()`\n",
      "  df[col] = cvv\n",
      "c:\\Users\\HOANG\\AppData\\Local\\Programs\\Python\\Python312\\Lib\\site-packages\\py4cytoscape\\tables.py:187: PerformanceWarning: DataFrame is highly fragmented.  This is usually the result of calling `frame.insert` many times, which has poor performance.  Consider joining all columns at once using pd.concat(axis=1) instead. To get a de-fragmented frame, use `newframe = frame.copy()`\n",
      "  df[col] = cvv\n",
      "c:\\Users\\HOANG\\AppData\\Local\\Programs\\Python\\Python312\\Lib\\site-packages\\py4cytoscape\\tables.py:187: PerformanceWarning: DataFrame is highly fragmented.  This is usually the result of calling `frame.insert` many times, which has poor performance.  Consider joining all columns at once using pd.concat(axis=1) instead. To get a de-fragmented frame, use `newframe = frame.copy()`\n",
      "  df[col] = cvv\n",
      "c:\\Users\\HOANG\\AppData\\Local\\Programs\\Python\\Python312\\Lib\\site-packages\\py4cytoscape\\tables.py:187: PerformanceWarning: DataFrame is highly fragmented.  This is usually the result of calling `frame.insert` many times, which has poor performance.  Consider joining all columns at once using pd.concat(axis=1) instead. To get a de-fragmented frame, use `newframe = frame.copy()`\n",
      "  df[col] = cvv\n",
      "c:\\Users\\HOANG\\AppData\\Local\\Programs\\Python\\Python312\\Lib\\site-packages\\py4cytoscape\\tables.py:187: PerformanceWarning: DataFrame is highly fragmented.  This is usually the result of calling `frame.insert` many times, which has poor performance.  Consider joining all columns at once using pd.concat(axis=1) instead. To get a de-fragmented frame, use `newframe = frame.copy()`\n",
      "  df[col] = cvv\n"
     ]
    }
   ],
   "source": [
    "import py4cytoscape as p4c\n",
    "import pandas as pd\n",
    "\n",
    "# Kết nối với Cytoscape\n",
    "p4c.cytoscape_ping()\n",
    "\n",
    "# Lấy SUID của mạng hiện tại\n",
    "network_id = p4c.get_network_suid()\n",
    "print(\"Network ID:\", network_id)\n",
    "\n",
    "# Lấy bảng các nút từ mạng hiện tại\n",
    "nodes_table = p4c.get_table_columns(table='node', network=network_id)\n",
    "\n",
    "# Chuyển dữ liệu thành DataFrame\n",
    "nodes_df = pd.DataFrame(nodes_table)\n",
    "\n",
    "# Kiểm tra các nút có trường 'label' rỗng\n",
    "empty_label_nodes = nodes_df[nodes_df['label'].isnull()]\n",
    "\n",
    "# Nếu có nút có label rỗng, đổi màu chúng thành xanh lá\n",
    "if not empty_label_nodes.empty:\n",
    "    node_ids = empty_label_nodes['SUID'].tolist()  # Chuyển đổi SUID của các nút có label rỗng thành danh sách\n",
    "    # Cập nhật màu sắc của các nút này thành màu xanh lá\n",
    "    p4c.set_node_property_bypass(node_ids, new_values='green', visual_property='NODE_FILL_COLOR', network=network_id)\n",
    "\n",
    "    print(f\"Đã đổi màu các nút có label rỗng thành xanh lá.\")\n",
    "else:\n",
    "    print(\"Không có nút nào có label rỗng.\")"
   ]
  },
  {
   "cell_type": "code",
   "execution_count": null,
   "metadata": {},
   "outputs": [],
   "source": []
  },
  {
   "cell_type": "code",
   "execution_count": null,
   "metadata": {},
   "outputs": [],
   "source": []
  }
 ],
 "metadata": {
  "kernelspec": {
   "display_name": "Python 3",
   "language": "python",
   "name": "python3"
  },
  "language_info": {
   "codemirror_mode": {
    "name": "ipython",
    "version": 3
   },
   "file_extension": ".py",
   "mimetype": "text/x-python",
   "name": "python",
   "nbconvert_exporter": "python",
   "pygments_lexer": "ipython3",
   "version": "3.12.4"
  }
 },
 "nbformat": 4,
 "nbformat_minor": 2
}
